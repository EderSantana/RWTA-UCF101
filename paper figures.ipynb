{
 "cells": [
  {
   "cell_type": "code",
   "execution_count": 1,
   "metadata": {
    "collapsed": false
   },
   "outputs": [
    {
     "name": "stderr",
     "output_type": "stream",
     "text": [
      "Using TensorFlow backend.\n"
     ]
    }
   ],
   "source": [
    "import tensorflow as tf\n",
    "import numpy as np\n",
    "from keras.datasets import mnist\n",
    "from datagen import train_generator, zca_whitening\n",
    "from tqdm import tqdm\n",
    "from scipy.misc import imresize"
   ]
  },
  {
   "cell_type": "code",
   "execution_count": 2,
   "metadata": {
    "collapsed": false
   },
   "outputs": [
    {
     "name": "stdout",
     "output_type": "stream",
     "text": [
      "Loading...\n",
      "Resizing...\n",
      "ZCA...\n",
      "(3072, 3072)\n",
      "((3072, 3072), (3072,))\n",
      "(3072, 3072)\n",
      "((60, 65, 32, 32, 3), -1.7847253545301025, 3.2941168584318432)\n"
     ]
    }
   ],
   "source": [
    "time_len=10\n",
    "batch_size=32\n",
    "resize=(32, 32, 3)\n",
    "\n",
    "# prev, obs, actions = np.load(mode+'_frames.npy')\n",
    "print(\"Loading...\")\n",
    "D = np.load('./animal_set.npy')\n",
    "B = np.load('./coil_100.npy')\n",
    "if resize is not None:\n",
    "    print(\"Resizing...\")\n",
    "    shape = (batch_size, time_len) + resize\n",
    "    newD = np.zeros(D.shape[:2] + resize)\n",
    "    newB = np.zeros(B.shape[:2] + resize)\n",
    "    for i in range(D.shape[0]):\n",
    "        for j in range(D.shape[1]):\n",
    "            newD[i, j] = imresize(D[i, j], resize)\n",
    "    for i in range(B.shape[0]):\n",
    "        for j in range(B.shape[1]):\n",
    "            newB[i, j] = imresize(B[i, j], resize)\n",
    "    D = newD\n",
    "    B = newB\n",
    "else:\n",
    "    shape = (batch_size, time_len) + (128, 128, 3)\n",
    "D = D/127.5 - 1\n",
    "B = B/127.5 - 1\n",
    "print('ZCA...')\n",
    "D, ZCA, mean = zca_whitening(D)\n",
    "oshape = (-1, 72, 32, 32, 3)\n",
    "B = B.reshape(np.prod(B.shape[:2]), -1)\n",
    "B = B - mean\n",
    "B = np.dot(ZCA, B.T).T\n",
    "B = B.reshape(oshape)\n",
    "print(D.shape, D.min(), D.max())"
   ]
  },
  {
   "cell_type": "code",
   "execution_count": 3,
   "metadata": {
    "collapsed": false
   },
   "outputs": [],
   "source": [
    "# from models import baseline as model\n",
    "from models import rwta as model"
   ]
  },
  {
   "cell_type": "code",
   "execution_count": 4,
   "metadata": {
    "collapsed": false,
    "scrolled": false
   },
   "outputs": [
    {
     "name": "stdout",
     "output_type": "stream",
     "text": [
      "[<tensorflow.python.ops.variables.Variable object at 0x7f1ab068ca90>, <tensorflow.python.ops.variables.Variable object at 0x7f1ab06f9090>, <tensorflow.python.ops.variables.Variable object at 0x7f1ab06bc790>, <tensorflow.python.ops.variables.Variable object at 0x7f1ab06b46d0>, <tensorflow.python.ops.variables.Variable object at 0x7f1ab0650210>, <tensorflow.python.ops.variables.Variable object at 0x7f1ab0661710>, <tensorflow.python.ops.variables.Variable object at 0x7f1ab0661fd0>, <tensorflow.python.ops.variables.Variable object at 0x7f1ab0605b10>, <tensorflow.python.ops.variables.Variable object at 0x7f1ab0605550>, <tensorflow.python.ops.variables.Variable object at 0x7f1ab0619a50>, <tensorflow.python.ops.variables.Variable object at 0x7f1ab062c9d0>, <tensorflow.python.ops.variables.Variable object at 0x7f1ab063b910>, <tensorflow.python.ops.variables.Variable object at 0x7f1ab05e49d0>, <tensorflow.python.ops.variables.Variable object at 0x7f1ab05cff10>, <tensorflow.python.ops.variables.Variable object at 0x7f1ab05f44d0>, <tensorflow.python.ops.variables.Variable object at 0x7f1ab0585f10>, <tensorflow.python.ops.variables.Variable object at 0x7f1ab3fb8cd0>, <tensorflow.python.ops.variables.Variable object at 0x7f1ab3fb8c90>, <tensorflow.python.ops.variables.Variable object at 0x7f1ab0757c90>, <tensorflow.python.ops.variables.Variable object at 0x7f1ab0757b10>, <tensorflow.python.ops.variables.Variable object at 0x7f1ab0780d50>, <tensorflow.python.ops.variables.Variable object at 0x7f1ab0780cd0>, <tensorflow.python.ops.variables.Variable object at 0x7f1ab0724d10>, <tensorflow.python.ops.variables.Variable object at 0x7f1ab0724c90>]\n",
      "Tensor(\"rwta/convolution2d_3_W/read:0\", shape=(7, 7, 128, 3), dtype=float32)\n",
      " [*] Reading checkpoints: ./outputs/results_rwta\n"
     ]
    },
    {
     "name": "stderr",
     "output_type": "stream",
     "text": [
      "\r",
      "  0%|          | 0/10 [00:00<?, ?it/s]"
     ]
    },
    {
     "name": "stdout",
     "output_type": "stream",
     "text": [
      " [*] Checkpoints read: rwta-0\n"
     ]
    },
    {
     "name": "stderr",
     "output_type": "stream",
     "text": [
      "100%|██████████| 10/10 [00:22<00:00,  2.34s/it]\n"
     ]
    }
   ],
   "source": [
    "name = 'rwta'\n",
    "batch = 10\n",
    "Out = np.zeros(B.shape[:4]+(128,))\n",
    "with tf.Session() as sess:\n",
    "    ftrain, ftest, loader, saver, extras = model.get_model(\n",
    "        sess=sess, name=name, batch_size=batch, time_len=B.shape[1])\n",
    "    loader()\n",
    "    total_cost = 0.\n",
    "    for i in tqdm(range(0, B.shape[0], batch)):\n",
    "        o = extras[1](B[i:i+batch])\n",
    "        Out[i:i+batch] = o.reshape(batch, 72, 32, 32, 128)"
   ]
  },
  {
   "cell_type": "code",
   "execution_count": 5,
   "metadata": {
    "collapsed": false
   },
   "outputs": [],
   "source": [
    "Ytr = np.zeros((100, 4, 1))\n",
    "Yts = np.zeros((100, 72-4, 1))\n",
    "for i in range(100):\n",
    "    Ytr[i, :, :] = i * np.ones((4, 1))\n",
    "    Yts[i, :, :] = i * np.ones((72-4, 1))\n",
    "\n",
    "Xtr = np.zeros((100, 4, 32, 32, 128))\n",
    "Xts = np.zeros((100, 72-4, 32, 32, 128))\n",
    "tridx = [0, 18, 36, 54]\n",
    "tsidx = [i for i in range(72) if i not in tridx]\n",
    "\n",
    "\n",
    "for i in range(100):\n",
    "    Xtr[i, :] = Out[i, tridx]\n",
    "    Xts[i, :] = Out[i, tsidx]\n",
    "    \n",
    "Xtr = Xtr.reshape(-1, 32*32*128)\n",
    "Ytr = Ytr.reshape(-1, 1)\n",
    "Xts = Xts.reshape(-1, 32*32*128)\n",
    "Yts = Yts.reshape(-1, 1)"
   ]
  },
  {
   "cell_type": "code",
   "execution_count": 6,
   "metadata": {
    "collapsed": false
   },
   "outputs": [],
   "source": [
    "from sklearn.pipeline import Pipeline\n",
    "from sklearn.svm import SVC\n",
    "from sklearn.decomposition import PCA"
   ]
  },
  {
   "cell_type": "code",
   "execution_count": 7,
   "metadata": {
    "collapsed": false
   },
   "outputs": [],
   "source": [
    "clf = Pipeline([('svc', SVC(kernel='linear'))])"
   ]
  },
  {
   "cell_type": "code",
   "execution_count": 8,
   "metadata": {
    "collapsed": false
   },
   "outputs": [
    {
     "name": "stderr",
     "output_type": "stream",
     "text": [
      "/home/edersantana/anaconda2/lib/python2.7/site-packages/sklearn/utils/validation.py:526: DataConversionWarning: A column-vector y was passed when a 1d array was expected. Please change the shape of y to (n_samples, ), for example using ravel().\n",
      "  y = column_or_1d(y, warn=True)\n"
     ]
    },
    {
     "data": {
      "text/plain": [
       "Pipeline(steps=[('svc', SVC(C=1.0, cache_size=200, class_weight=None, coef0=0.0,\n",
       "  decision_function_shape=None, degree=3, gamma='auto', kernel='linear',\n",
       "  max_iter=-1, probability=False, random_state=None, shrinking=True,\n",
       "  tol=0.001, verbose=False))])"
      ]
     },
     "execution_count": 8,
     "metadata": {},
     "output_type": "execute_result"
    }
   ],
   "source": [
    "clf.fit(Xtr, Ytr)"
   ]
  },
  {
   "cell_type": "code",
   "execution_count": 9,
   "metadata": {
    "collapsed": false
   },
   "outputs": [
    {
     "data": {
      "text/plain": [
       "0.85029411764705887"
      ]
     },
     "execution_count": 9,
     "metadata": {},
     "output_type": "execute_result"
    }
   ],
   "source": [
    "clf.score(Xts, Yts)"
   ]
  },
  {
   "cell_type": "code",
   "execution_count": null,
   "metadata": {
    "collapsed": true
   },
   "outputs": [],
   "source": []
  },
  {
   "cell_type": "code",
   "execution_count": null,
   "metadata": {
    "collapsed": true
   },
   "outputs": [],
   "source": []
  }
 ],
 "metadata": {
  "kernelspec": {
   "display_name": "Python 2",
   "language": "python",
   "name": "python2"
  },
  "language_info": {
   "codemirror_mode": {
    "name": "ipython",
    "version": 2
   },
   "file_extension": ".py",
   "mimetype": "text/x-python",
   "name": "python",
   "nbconvert_exporter": "python",
   "pygments_lexer": "ipython2",
   "version": "2.7.13"
  }
 },
 "nbformat": 4,
 "nbformat_minor": 0
}
